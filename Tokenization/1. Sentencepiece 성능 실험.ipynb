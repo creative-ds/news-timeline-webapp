{
  "nbformat": 4,
  "nbformat_minor": 5,
  "metadata": {
    "kernelspec": {
      "name": "python3",
      "display_name": "Python 3"
    },
    "colab": {
      "name": "2. Tokenization & Embedding 성능 실험.ipynb",
      "provenance": [],
      "collapsed_sections": []
    },
    "language_info": {
      "name": "python"
    }
  },
  "cells": [
    {
      "cell_type": "code",
      "metadata": {
        "colab": {
          "base_uri": "https://localhost:8080/"
        },
        "id": "UlRZmu0NDhR9",
        "outputId": "ff462595-974b-4d3b-ae4c-2bfbee18f671"
      },
      "source": [
        "from google.colab import drive \n",
        "drive.mount('/content/drive')"
      ],
      "id": "UlRZmu0NDhR9",
      "execution_count": 1,
      "outputs": [
        {
          "output_type": "stream",
          "name": "stdout",
          "text": [
            "Drive already mounted at /content/drive; to attempt to forcibly remount, call drive.mount(\"/content/drive\", force_remount=True).\n"
          ]
        }
      ]
    },
    {
      "cell_type": "code",
      "metadata": {
        "id": "a0b690c9"
      },
      "source": [
        "import pandas as pd\n",
        "import sentencepiece as spm\n",
        "import time\n",
        "import numpy as np"
      ],
      "id": "a0b690c9",
      "execution_count": 33,
      "outputs": []
    },
    {
      "cell_type": "markdown",
      "metadata": {
        "id": "9af1d919"
      },
      "source": [
        "### 토큰화 방법: Sentencepiece"
      ],
      "id": "9af1d919"
    },
    {
      "cell_type": "markdown",
      "metadata": {
        "id": "9d8047f2"
      },
      "source": [
        "<h3> Sentencepiece 모듈 파라미터</h3>\n",
        "\n",
        "- input : 학습시킬 파일\n",
        "- model_prefix : 만들어질 모델 이름\n",
        "- vocab_size : 단어 집합의 크기\n",
        "    - 너무 적으면 한 글자 단위로 쪼개지는 경향이 있고, 너무 많으면 쓸데없는 단어들이 만들어진다. 주로 32,000이 가장 좋다고 알려져 있다.\n",
        "- model_type : 사용할 모델 (unigram(default), bpe, char, word)\\\n",
        "- max_sentence_length: 문장의 최대 길이\n",
        "- pad_id, pad_piece: pad token id, 값\n",
        "- unk_id, unk_piece: unknown token id, 값\n",
        "- bos_id, bos_piece: begin of sentence token id, 값\n",
        "- eos_id, eos_piece: end of sequence token id, 값\n",
        "- user_defined_symbols: 사용자 정의 토큰"
      ],
      "id": "9d8047f2"
    },
    {
      "cell_type": "markdown",
      "metadata": {
        "id": "19cfd2eb"
      },
      "source": [
        "## Experiment 1. 텍스트 전처리 전 토큰화 및 임베딩\n",
        "- 성능 실험을 위해 정제된 dacon news data를 이용해 뉴스 카테고리 (이진)분류 모델의 성능을 확인할 예정"
      ],
      "id": "19cfd2eb"
    },
    {
      "cell_type": "code",
      "metadata": {
        "colab": {
          "base_uri": "https://localhost:8080/",
          "height": 204
        },
        "id": "dd1a4c94",
        "outputId": "ef6254c7-990b-489c-c0a5-953a3bfc6d50"
      },
      "source": [
        "dacon_df = pd.read_csv('/content/drive/MyDrive/News_Timeline_WepApp/data/dacon_news_data.csv')\n",
        "dacon_df = dacon_df[['title', 'topic_idx']]\n",
        "dacon_df.head()"
      ],
      "id": "dd1a4c94",
      "execution_count": 113,
      "outputs": [
        {
          "output_type": "execute_result",
          "data": {
            "text/html": [
              "<div>\n",
              "<style scoped>\n",
              "    .dataframe tbody tr th:only-of-type {\n",
              "        vertical-align: middle;\n",
              "    }\n",
              "\n",
              "    .dataframe tbody tr th {\n",
              "        vertical-align: top;\n",
              "    }\n",
              "\n",
              "    .dataframe thead th {\n",
              "        text-align: right;\n",
              "    }\n",
              "</style>\n",
              "<table border=\"1\" class=\"dataframe\">\n",
              "  <thead>\n",
              "    <tr style=\"text-align: right;\">\n",
              "      <th></th>\n",
              "      <th>title</th>\n",
              "      <th>topic_idx</th>\n",
              "    </tr>\n",
              "  </thead>\n",
              "  <tbody>\n",
              "    <tr>\n",
              "      <th>0</th>\n",
              "      <td>인천→핀란드 항공기 결항…휴가철 여행객 분통</td>\n",
              "      <td>4</td>\n",
              "    </tr>\n",
              "    <tr>\n",
              "      <th>1</th>\n",
              "      <td>실리콘밸리 넘어서겠다…구글 15조원 들여 美전역 거점화</td>\n",
              "      <td>4</td>\n",
              "    </tr>\n",
              "    <tr>\n",
              "      <th>2</th>\n",
              "      <td>이란 외무 긴장완화 해결책은 미국이 경제전쟁 멈추는 것</td>\n",
              "      <td>4</td>\n",
              "    </tr>\n",
              "    <tr>\n",
              "      <th>3</th>\n",
              "      <td>NYT 클린턴 측근韓기업 특수관계 조명…공과 사 맞물려종합</td>\n",
              "      <td>4</td>\n",
              "    </tr>\n",
              "    <tr>\n",
              "      <th>4</th>\n",
              "      <td>시진핑 트럼프에 중미 무역협상 조속 타결 희망</td>\n",
              "      <td>4</td>\n",
              "    </tr>\n",
              "  </tbody>\n",
              "</table>\n",
              "</div>"
            ],
            "text/plain": [
              "                              title  topic_idx\n",
              "0          인천→핀란드 항공기 결항…휴가철 여행객 분통          4\n",
              "1    실리콘밸리 넘어서겠다…구글 15조원 들여 美전역 거점화          4\n",
              "2    이란 외무 긴장완화 해결책은 미국이 경제전쟁 멈추는 것          4\n",
              "3  NYT 클린턴 측근韓기업 특수관계 조명…공과 사 맞물려종합          4\n",
              "4         시진핑 트럼프에 중미 무역협상 조속 타결 희망          4"
            ]
          },
          "metadata": {},
          "execution_count": 113
        }
      ]
    },
    {
      "cell_type": "code",
      "metadata": {
        "colab": {
          "base_uri": "https://localhost:8080/"
        },
        "id": "c06b65d3",
        "outputId": "414adab4-0faa-4560-8e36-59bdeeb3f78b"
      },
      "source": [
        "dacon_df.shape"
      ],
      "id": "c06b65d3",
      "execution_count": 114,
      "outputs": [
        {
          "output_type": "execute_result",
          "data": {
            "text/plain": [
              "(14991, 2)"
            ]
          },
          "metadata": {},
          "execution_count": 114
        }
      ]
    },
    {
      "cell_type": "code",
      "metadata": {
        "colab": {
          "base_uri": "https://localhost:8080/"
        },
        "id": "WNLZ5j63Sf8h",
        "outputId": "ce67e4aa-c872-4ab9-9830-2670b390c7d3"
      },
      "source": [
        "dacon_df['topic_idx'] = dacon_df['topic_idx'].replace(4, 0)\n",
        "dacon_df['topic_idx'] = dacon_df['topic_idx'].replace(2, 1)\n",
        "dacon_df['topic_idx'].value_counts()"
      ],
      "id": "WNLZ5j63Sf8h",
      "execution_count": 115,
      "outputs": [
        {
          "output_type": "execute_result",
          "data": {
            "text/plain": [
              "0    7629\n",
              "1    7362\n",
              "Name: topic_idx, dtype: int64"
            ]
          },
          "metadata": {},
          "execution_count": 115
        }
      ]
    },
    {
      "cell_type": "code",
      "metadata": {
        "id": "O0ilXUM-VSgj"
      },
      "source": [
        ""
      ],
      "id": "O0ilXUM-VSgj",
      "execution_count": null,
      "outputs": []
    },
    {
      "cell_type": "code",
      "metadata": {
        "colab": {
          "base_uri": "https://localhost:8080/",
          "height": 52
        },
        "id": "ecc576f4",
        "outputId": "e8590d1e-2129-44d1-8551-53fdf63b2d40"
      },
      "source": [
        "with open('/content/drive/MyDrive/News_Timeline_WepApp/data/dacon_title.txt', 'w', encoding='utf8') as f:\n",
        "    f.write('\\n'.join(dacon_df['title']))\n",
        "    \n",
        "input_file = '/content/drive/MyDrive/News_Timeline_WepApp/data/dacon_title.txt'\n",
        "vocab_size = 32000\n",
        "prefix = '/content/drive/MyDrive/News_Timeline_WepApp/data/dacon_sentencepiece'\n",
        "model_type = 'bpe'\n",
        "\n",
        "templates = '--input={} --model_prefix={} --vocab_size={} --model_type={}'\n",
        "cmd = templates.format(input_file, prefix, vocab_size, model_type)\n",
        "cmd"
      ],
      "id": "ecc576f4",
      "execution_count": 116,
      "outputs": [
        {
          "output_type": "execute_result",
          "data": {
            "application/vnd.google.colaboratory.intrinsic+json": {
              "type": "string"
            },
            "text/plain": [
              "'--input=/content/drive/MyDrive/News_Timeline_WepApp/data/dacon_title.txt --model_prefix=/content/drive/MyDrive/News_Timeline_WepApp/data/dacon_sentencepiece --vocab_size=32000 --model_type=bpe'"
            ]
          },
          "metadata": {},
          "execution_count": 116
        }
      ]
    },
    {
      "cell_type": "code",
      "metadata": {
        "id": "1pHMvjQZLft4"
      },
      "source": [
        ""
      ],
      "id": "1pHMvjQZLft4",
      "execution_count": null,
      "outputs": []
    },
    {
      "cell_type": "code",
      "metadata": {
        "colab": {
          "base_uri": "https://localhost:8080/"
        },
        "id": "3b8e5ae7",
        "outputId": "a4b8171d-2107-4470-95be-c691f8904d9b"
      },
      "source": [
        "# 토큰화 time check\n",
        "start = time.time() \n",
        "\n",
        "# model train\n",
        "spm.SentencePieceTrainer.Train(cmd) # train 후 .vocab과 .model 2개 파일 생성\n",
        "\n",
        "print(\"time :\", time.time() - start)  # 현재시각 - 시작시간 = 실행 시간"
      ],
      "id": "3b8e5ae7",
      "execution_count": 117,
      "outputs": [
        {
          "output_type": "stream",
          "name": "stdout",
          "text": [
            "time : 14.115135908126831\n"
          ]
        }
      ]
    },
    {
      "cell_type": "code",
      "metadata": {
        "scrolled": true,
        "colab": {
          "base_uri": "https://localhost:8080/"
        },
        "id": "92682bae",
        "outputId": "9e4790a8-e13a-472c-e61b-9b10e3efb6a2"
      },
      "source": [
        "# model load\n",
        "\n",
        "sp = spm.SentencePieceProcessor()\n",
        "sp.Load('{}.model'.format(prefix))\n",
        "\n",
        "# 토큰화 확인\n",
        "for t in dacon_df['title'][:1]:\n",
        "    print(t, \"\\n\")\n",
        "    print(sp.encode_as_pieces(t),\"\\n\") #문장을 입력하면 서브 워드 시퀀스로 변환\n",
        "    print(sp.encode_as_ids(t), \"\\n\") #문장을 입력하면 정수 시퀀스로 변환"
      ],
      "id": "92682bae",
      "execution_count": 118,
      "outputs": [
        {
          "output_type": "stream",
          "name": "stdout",
          "text": [
            "인천→핀란드 항공기 결항…휴가철 여행객 분통 \n",
            "\n",
            "['▁인천', '→', '핀', '란드', '▁항공기', '▁결항', '...', '휴가철', '▁여행객', '▁분통'] \n",
            "\n",
            "[415, 31319, 31253, 656, 3776, 5307, 4, 26016, 7630, 8607] \n",
            "\n"
          ]
        }
      ]
    },
    {
      "cell_type": "code",
      "metadata": {
        "id": "1a2d0d12"
      },
      "source": [
        "dacon_df['tokenized_sent'] = dacon_df['title'].apply(lambda s: sp.encode_as_pieces(s))\n",
        "dacon_df['encoding'] = dacon_df['title'].apply(lambda s: sp.encode_as_ids(s))"
      ],
      "id": "1a2d0d12",
      "execution_count": 120,
      "outputs": []
    },
    {
      "cell_type": "code",
      "metadata": {
        "colab": {
          "base_uri": "https://localhost:8080/",
          "height": 142
        },
        "id": "205bca3b",
        "outputId": "c78df976-5bdd-4b3b-eecf-48bfbd4d1317"
      },
      "source": [
        "dacon_df.head(3)"
      ],
      "id": "205bca3b",
      "execution_count": 121,
      "outputs": [
        {
          "output_type": "execute_result",
          "data": {
            "text/html": [
              "<div>\n",
              "<style scoped>\n",
              "    .dataframe tbody tr th:only-of-type {\n",
              "        vertical-align: middle;\n",
              "    }\n",
              "\n",
              "    .dataframe tbody tr th {\n",
              "        vertical-align: top;\n",
              "    }\n",
              "\n",
              "    .dataframe thead th {\n",
              "        text-align: right;\n",
              "    }\n",
              "</style>\n",
              "<table border=\"1\" class=\"dataframe\">\n",
              "  <thead>\n",
              "    <tr style=\"text-align: right;\">\n",
              "      <th></th>\n",
              "      <th>title</th>\n",
              "      <th>topic_idx</th>\n",
              "      <th>tokenized_sent</th>\n",
              "      <th>encoding</th>\n",
              "    </tr>\n",
              "  </thead>\n",
              "  <tbody>\n",
              "    <tr>\n",
              "      <th>0</th>\n",
              "      <td>인천→핀란드 항공기 결항…휴가철 여행객 분통</td>\n",
              "      <td>0</td>\n",
              "      <td>[▁인천, →, 핀, 란드, ▁항공기, ▁결항, ..., 휴가철, ▁여행객, ▁분통]</td>\n",
              "      <td>[415, 31319, 31253, 656, 3776, 5307, 4, 26016,...</td>\n",
              "    </tr>\n",
              "    <tr>\n",
              "      <th>1</th>\n",
              "      <td>실리콘밸리 넘어서겠다…구글 15조원 들여 美전역 거점화</td>\n",
              "      <td>0</td>\n",
              "      <td>[▁실리콘밸리, ▁넘어서, 겠다, ..., 구글, ▁15, 조원, ▁들여, ▁美, ...</td>\n",
              "      <td>[7907, 16412, 654, 4, 5148, 556, 1106, 7131, 1...</td>\n",
              "    </tr>\n",
              "    <tr>\n",
              "      <th>2</th>\n",
              "      <td>이란 외무 긴장완화 해결책은 미국이 경제전쟁 멈추는 것</td>\n",
              "      <td>0</td>\n",
              "      <td>[▁이란, ▁외무, ▁긴장완화, ▁해결책은, ▁미국이, ▁경제전쟁, ▁멈추는, ▁것]</td>\n",
              "      <td>[37, 444, 18208, 19245, 5605, 12316, 21337, 141]</td>\n",
              "    </tr>\n",
              "  </tbody>\n",
              "</table>\n",
              "</div>"
            ],
            "text/plain": [
              "                            title  ...                                           encoding\n",
              "0        인천→핀란드 항공기 결항…휴가철 여행객 분통  ...  [415, 31319, 31253, 656, 3776, 5307, 4, 26016,...\n",
              "1  실리콘밸리 넘어서겠다…구글 15조원 들여 美전역 거점화  ...  [7907, 16412, 654, 4, 5148, 556, 1106, 7131, 1...\n",
              "2  이란 외무 긴장완화 해결책은 미국이 경제전쟁 멈추는 것  ...   [37, 444, 18208, 19245, 5605, 12316, 21337, 141]\n",
              "\n",
              "[3 rows x 4 columns]"
            ]
          },
          "metadata": {},
          "execution_count": 121
        }
      ]
    },
    {
      "cell_type": "markdown",
      "metadata": {
        "id": "a7917246"
      },
      "source": [
        "### RNN을 이용한 뉴스 토픽 분류"
      ],
      "id": "a7917246"
    },
    {
      "cell_type": "code",
      "metadata": {
        "id": "e4abb1f4"
      },
      "source": [
        "with open(\"/content/drive/MyDrive/News_Timeline_WepApp/data/dacon_sentencepiece.vocab\", 'r') as f:\n",
        "    vocab = f.readlines()\n",
        "\n",
        "word_index = {}\n",
        "index_word = {}\n",
        "\n",
        "for idx, line in enumerate(vocab):\n",
        "    word = line.split(\"\\t\")[0]\n",
        "\n",
        "    word_index.update({idx:word})\n",
        "    index_word.update({word:idx})"
      ],
      "id": "e4abb1f4",
      "execution_count": 122,
      "outputs": []
    },
    {
      "cell_type": "code",
      "metadata": {
        "colab": {
          "base_uri": "https://localhost:8080/",
          "height": 317
        },
        "id": "db4d6e3b",
        "outputId": "e0e396cc-3f10-4af3-95c6-c3aefa2d7d2f"
      },
      "source": [
        "import matplotlib.pyplot as plt\n",
        "\n",
        "sequences = dacon_df['encoding']\n",
        "X_data = sequences\n",
        "\n",
        "print('메일의 최대 길이 : %d' % max(len(l) for l in X_data))\n",
        "print('메일의 평균 길이 : %f' % (sum(map(len, X_data))/len(X_data)))\n",
        "plt.hist([len(s) for s in X_data], bins=20)\n",
        "plt.xlabel('length of samples')\n",
        "plt.ylabel('number of samples')\n",
        "plt.show()"
      ],
      "id": "db4d6e3b",
      "execution_count": 124,
      "outputs": [
        {
          "output_type": "stream",
          "name": "stdout",
          "text": [
            "메일의 최대 길이 : 22\n",
            "메일의 평균 길이 : 9.915683\n"
          ]
        },
        {
          "output_type": "display_data",
          "data": {
            "image/png": "[encoded data removed]",
            "text/plain": [
              "<Figure size 432x288 with 1 Axes>"
            ]
          },
          "metadata": {
            "needs_background": "light"
          }
        }
      ]
    },
    {
      "cell_type": "code",
      "metadata": {
        "colab": {
          "base_uri": "https://localhost:8080/"
        },
        "id": "7ff25d10",
        "outputId": "04e41a8e-bcb2-46e9-fa50-f83fe2647455"
      },
      "source": [
        "from tensorflow.keras.preprocessing.sequence import pad_sequences\n",
        "\n",
        "max_len = 22\n",
        "X_data = pad_sequences(X_data, maxlen = max_len)\n",
        "print(\"훈련 데이터의 크기(shape): \", X_data.shape)"
      ],
      "id": "7ff25d10",
      "execution_count": 125,
      "outputs": [
        {
          "output_type": "stream",
          "name": "stdout",
          "text": [
            "훈련 데이터의 크기(shape):  (14991, 22)\n"
          ]
        }
      ]
    },
    {
      "cell_type": "code",
      "metadata": {
        "colab": {
          "base_uri": "https://localhost:8080/"
        },
        "id": "eDfcQdb4TeGR",
        "outputId": "66c4ed54-7fea-41af-e604-a17aece50849"
      },
      "source": [
        "X_data[:3]"
      ],
      "id": "eDfcQdb4TeGR",
      "execution_count": 127,
      "outputs": [
        {
          "output_type": "execute_result",
          "data": {
            "text/plain": [
              "array([[    0,     0,     0,     0,     0,     0,     0,     0,     0,\n",
              "            0,     0,     0,   415, 31319, 31253,   656,  3776,  5307,\n",
              "            4, 26016,  7630,  8607],\n",
              "       [    0,     0,     0,     0,     0,     0,     0,     0,     0,\n",
              "            0,  7907, 16412,   654,     4,  5148,   556,  1106,  7131,\n",
              "           14, 30768, 30871, 25015],\n",
              "       [    0,     0,     0,     0,     0,     0,     0,     0,     0,\n",
              "            0,     0,     0,     0,     0,    37,   444, 18208, 19245,\n",
              "         5605, 12316, 21337,   141]], dtype=int32)"
            ]
          },
          "metadata": {},
          "execution_count": 127
        }
      ]
    },
    {
      "cell_type": "code",
      "metadata": {
        "colab": {
          "base_uri": "https://localhost:8080/"
        },
        "id": "y8rE4ElZHfMr",
        "outputId": "abc9d178-0686-4319-8817-770fe4a373bb"
      },
      "source": [
        "# ndarray로 바꿔주기\n",
        "y_data = np.array(list(dacon_df['topic_idx']))\n",
        "y_data[:3]"
      ],
      "id": "y8rE4ElZHfMr",
      "execution_count": 126,
      "outputs": [
        {
          "output_type": "execute_result",
          "data": {
            "text/plain": [
              "array([0, 0, 0])"
            ]
          },
          "metadata": {},
          "execution_count": 126
        }
      ]
    },
    {
      "cell_type": "code",
      "metadata": {
        "colab": {
          "base_uri": "https://localhost:8080/"
        },
        "id": "d071491b",
        "outputId": "4ff45c9a-125b-49a6-c2ff-b853fcad0a0c"
      },
      "source": [
        "from sklearn.model_selection import train_test_split\n",
        "\n",
        "X_train, X_test, Y_train, Y_test = train_test_split(X_data, y_data, test_size=0.2, random_state=0)\n",
        "\n",
        "print(X_train.shape, Y_train.shape)\n",
        "print(X_test.shape, Y_test.shape)"
      ],
      "id": "d071491b",
      "execution_count": 129,
      "outputs": [
        {
          "output_type": "stream",
          "name": "stdout",
          "text": [
            "(11992, 22) (11992,)\n",
            "(2999, 22) (2999,)\n"
          ]
        }
      ]
    },
    {
      "cell_type": "code",
      "metadata": {
        "id": "WqcKIHEvF5qm"
      },
      "source": [
        "from tensorflow.keras.layers import SimpleRNN, Embedding, Dense\n",
        "from tensorflow.keras.models import Sequential\n",
        "from tensorflow import keras\n",
        "\n",
        "model = Sequential()\n",
        "model.add(Embedding(32000, 32))\n",
        "model.add(SimpleRNN(32)) # RNN 셀의 hidden_size는 32\n",
        "model.add(Dense(1, activation='sigmoid'))\n",
        "\n",
        "model.compile(optimizer='adam', loss='binary_crossentropy', metrics=['accuracy'])"
      ],
      "id": "WqcKIHEvF5qm",
      "execution_count": 130,
      "outputs": []
    },
    {
      "cell_type": "code",
      "metadata": {
        "colab": {
          "base_uri": "https://localhost:8080/"
        },
        "id": "2wUxTfmgIa9E",
        "outputId": "25102c9a-670a-4388-d182-dedaaaeace5a"
      },
      "source": [
        "model.summary()"
      ],
      "id": "2wUxTfmgIa9E",
      "execution_count": 131,
      "outputs": [
        {
          "output_type": "stream",
          "name": "stdout",
          "text": [
            "Model: \"sequential_17\"\n",
            "_________________________________________________________________\n",
            "Layer (type)                 Output Shape              Param #   \n",
            "=================================================================\n",
            "embedding_17 (Embedding)     (None, None, 32)          1024000   \n",
            "_________________________________________________________________\n",
            "simple_rnn_6 (SimpleRNN)     (None, 32)                2080      \n",
            "_________________________________________________________________\n",
            "dense_26 (Dense)             (None, 1)                 33        \n",
            "=================================================================\n",
            "Total params: 1,026,113\n",
            "Trainable params: 1,026,113\n",
            "Non-trainable params: 0\n",
            "_________________________________________________________________\n"
          ]
        }
      ]
    },
    {
      "cell_type": "code",
      "metadata": {
        "colab": {
          "base_uri": "https://localhost:8080/"
        },
        "id": "MHicwsKTIouA",
        "outputId": "142a98a7-5566-4cb4-e8d6-ce26b313f69f"
      },
      "source": [
        "history = model.fit(X_train, Y_train, epochs=4, batch_size=64, validation_split=0.2)"
      ],
      "id": "MHicwsKTIouA",
      "execution_count": 139,
      "outputs": [
        {
          "output_type": "stream",
          "name": "stdout",
          "text": [
            "Epoch 1/4\n",
            "150/150 [==============================] - 3s 18ms/step - loss: 8.6051e-05 - accuracy: 1.0000 - val_loss: 0.4095 - val_accuracy: 0.9283\n",
            "Epoch 2/4\n",
            "150/150 [==============================] - 3s 17ms/step - loss: 7.5261e-05 - accuracy: 1.0000 - val_loss: 0.4184 - val_accuracy: 0.9283\n",
            "Epoch 3/4\n",
            "150/150 [==============================] - 3s 18ms/step - loss: 6.6148e-05 - accuracy: 1.0000 - val_loss: 0.4316 - val_accuracy: 0.9258\n",
            "Epoch 4/4\n",
            "150/150 [==============================] - 3s 18ms/step - loss: 5.7062e-05 - accuracy: 1.0000 - val_loss: 0.4375 - val_accuracy: 0.9279\n"
          ]
        }
      ]
    },
    {
      "cell_type": "code",
      "metadata": {
        "colab": {
          "base_uri": "https://localhost:8080/"
        },
        "id": "fGR1bmiNGldB",
        "outputId": "db18ce04-32f3-485d-bad2-09b75039208b"
      },
      "source": [
        "print(\"\\n 테스트 정확도: %.4f\" % (model.evaluate(X_test, Y_test)[1]))"
      ],
      "id": "fGR1bmiNGldB",
      "execution_count": 140,
      "outputs": [
        {
          "output_type": "stream",
          "name": "stdout",
          "text": [
            "94/94 [==============================] - 0s 2ms/step - loss: 0.4820 - accuracy: 0.9193\n",
            "\n",
            " 테스트 정확도: 0.9193\n"
          ]
        }
      ]
    },
    {
      "cell_type": "code",
      "metadata": {
        "id": "9rMPVqcPT6qN"
      },
      "source": [
        ""
      ],
      "id": "9rMPVqcPT6qN",
      "execution_count": null,
      "outputs": []
    },
    {
      "cell_type": "markdown",
      "metadata": {
        "id": "WTfI9GdEUlHR"
      },
      "source": [
        "## Experiment 2. 텍스트 전처리 후 토큰화 및 임베딩"
      ],
      "id": "WTfI9GdEUlHR"
    },
    {
      "cell_type": "code",
      "metadata": {
        "colab": {
          "base_uri": "https://localhost:8080/",
          "height": 204
        },
        "id": "48U0qtdAUn6X",
        "outputId": "bf7d4af5-0d3c-4338-f870-1e8b7c816a41"
      },
      "source": [
        "dacon_df2 = pd.read_csv('/content/drive/MyDrive/News_Timeline_WepApp/data/dacon_news_data.csv')\n",
        "dacon_df2 = dacon_df2[['title', 'topic_idx']]\n",
        "\n",
        "# 한글, 영어 제외한 문자 제거\n",
        "dacon_df2['title'] = dacon_df2['title'].str.replace(\"[^ㄱ-ㅎㅏ-ㅣ가-힣a-zA-z ]\",\" \") \n",
        "\n",
        "# topic_idx 숫자 변화\n",
        "dacon_df2['topic_idx'] = dacon_df['topic_idx'].replace(4, 0)\n",
        "dacon_df2['topic_idx'] = dacon_df['topic_idx'].replace(2, 1)\n",
        "\n",
        "dacon_df2.head()"
      ],
      "id": "48U0qtdAUn6X",
      "execution_count": 146,
      "outputs": [
        {
          "output_type": "execute_result",
          "data": {
            "text/html": [
              "<div>\n",
              "<style scoped>\n",
              "    .dataframe tbody tr th:only-of-type {\n",
              "        vertical-align: middle;\n",
              "    }\n",
              "\n",
              "    .dataframe tbody tr th {\n",
              "        vertical-align: top;\n",
              "    }\n",
              "\n",
              "    .dataframe thead th {\n",
              "        text-align: right;\n",
              "    }\n",
              "</style>\n",
              "<table border=\"1\" class=\"dataframe\">\n",
              "  <thead>\n",
              "    <tr style=\"text-align: right;\">\n",
              "      <th></th>\n",
              "      <th>title</th>\n",
              "      <th>topic_idx</th>\n",
              "    </tr>\n",
              "  </thead>\n",
              "  <tbody>\n",
              "    <tr>\n",
              "      <th>0</th>\n",
              "      <td>인천 핀란드 항공기 결항 휴가철 여행객 분통</td>\n",
              "      <td>0</td>\n",
              "    </tr>\n",
              "    <tr>\n",
              "      <th>1</th>\n",
              "      <td>실리콘밸리 넘어서겠다 구글   조원 들여  전역 거점화</td>\n",
              "      <td>0</td>\n",
              "    </tr>\n",
              "    <tr>\n",
              "      <th>2</th>\n",
              "      <td>이란 외무 긴장완화 해결책은 미국이 경제전쟁 멈추는 것</td>\n",
              "      <td>0</td>\n",
              "    </tr>\n",
              "    <tr>\n",
              "      <th>3</th>\n",
              "      <td>NYT 클린턴 측근 기업 특수관계 조명 공과 사 맞물려종합</td>\n",
              "      <td>0</td>\n",
              "    </tr>\n",
              "    <tr>\n",
              "      <th>4</th>\n",
              "      <td>시진핑 트럼프에 중미 무역협상 조속 타결 희망</td>\n",
              "      <td>0</td>\n",
              "    </tr>\n",
              "  </tbody>\n",
              "</table>\n",
              "</div>"
            ],
            "text/plain": [
              "                              title  topic_idx\n",
              "0          인천 핀란드 항공기 결항 휴가철 여행객 분통          0\n",
              "1    실리콘밸리 넘어서겠다 구글   조원 들여  전역 거점화          0\n",
              "2    이란 외무 긴장완화 해결책은 미국이 경제전쟁 멈추는 것          0\n",
              "3  NYT 클린턴 측근 기업 특수관계 조명 공과 사 맞물려종합          0\n",
              "4         시진핑 트럼프에 중미 무역협상 조속 타결 희망          0"
            ]
          },
          "metadata": {},
          "execution_count": 146
        }
      ]
    },
    {
      "cell_type": "code",
      "metadata": {
        "colab": {
          "base_uri": "https://localhost:8080/"
        },
        "id": "WbeFNjIFUxIZ",
        "outputId": "7bebbf91-da71-4008-d079-0ef655e32551"
      },
      "source": [
        "with open('/content/drive/MyDrive/News_Timeline_WepApp/data/dacon_title2.txt', 'w', encoding='utf8') as f:\n",
        "    f.write('\\n'.join(dacon_df2['title']))\n",
        "    \n",
        "input_file = '/content/drive/MyDrive/News_Timeline_WepApp/data/dacon_title2.txt'\n",
        "vocab_size = 32000\n",
        "prefix = '/content/drive/MyDrive/News_Timeline_WepApp/data/dacon_sentencepiece2'\n",
        "model_type = 'bpe'\n",
        "\n",
        "templates = '--input={} --model_prefix={} --vocab_size={} --model_type={}'\n",
        "cmd = templates.format(input_file, prefix, vocab_size, model_type)\n",
        "\n",
        "# 토큰화 time check\n",
        "start = time.time() \n",
        "\n",
        "# model train\n",
        "spm.SentencePieceTrainer.Train(cmd) # train 후 .vocab과 .model 2개 파일 생성\n",
        "\n",
        "print(\"time :\", time.time() - start)  # 현재시각 - 시작시간 = 실행 시간"
      ],
      "id": "WbeFNjIFUxIZ",
      "execution_count": 147,
      "outputs": [
        {
          "output_type": "stream",
          "name": "stdout",
          "text": [
            "time : 13.609874248504639\n"
          ]
        }
      ]
    },
    {
      "cell_type": "code",
      "metadata": {
        "colab": {
          "base_uri": "https://localhost:8080/"
        },
        "id": "7yyleASIVfdf",
        "outputId": "7bf31cc1-dc4c-49ef-f954-d1b7c89777ff"
      },
      "source": [
        "# model load\n",
        "\n",
        "sp = spm.SentencePieceProcessor()\n",
        "sp.Load('{}.model'.format(prefix))\n",
        "\n",
        "# 토큰화 확인\n",
        "for t in dacon_df2['title'][:1]:\n",
        "    print(t, \"\\n\")\n",
        "    print(sp.encode_as_pieces(t),\"\\n\") #문장을 입력하면 서브 워드 시퀀스로 변환\n",
        "    print(sp.encode_as_ids(t), \"\\n\") #문장을 입력하면 정수 시퀀스로 변환"
      ],
      "id": "7yyleASIVfdf",
      "execution_count": 148,
      "outputs": [
        {
          "output_type": "stream",
          "name": "stdout",
          "text": [
            "인천 핀란드 항공기 결항 휴가철 여행객 분통 \n",
            "\n",
            "['▁인천', '▁핀란드', '▁항공기', '▁결항', '▁휴가철', '▁여행객', '▁분통'] \n",
            "\n",
            "[391, 6354, 2754, 5148, 24727, 5484, 8233] \n",
            "\n"
          ]
        }
      ]
    },
    {
      "cell_type": "code",
      "metadata": {
        "colab": {
          "base_uri": "https://localhost:8080/",
          "height": 142
        },
        "id": "-FnZz5uFVd6W",
        "outputId": "9634ea96-26bf-485a-de4e-414972b1e027"
      },
      "source": [
        "dacon_df2['tokenized_sent'] = dacon_df2['title'].apply(lambda s: sp.encode_as_pieces(s))\n",
        "dacon_df2['encoding'] = dacon_df2['title'].apply(lambda s: sp.encode_as_ids(s))\n",
        "dacon_df2.head(3)"
      ],
      "id": "-FnZz5uFVd6W",
      "execution_count": 151,
      "outputs": [
        {
          "output_type": "execute_result",
          "data": {
            "text/html": [
              "<div>\n",
              "<style scoped>\n",
              "    .dataframe tbody tr th:only-of-type {\n",
              "        vertical-align: middle;\n",
              "    }\n",
              "\n",
              "    .dataframe tbody tr th {\n",
              "        vertical-align: top;\n",
              "    }\n",
              "\n",
              "    .dataframe thead th {\n",
              "        text-align: right;\n",
              "    }\n",
              "</style>\n",
              "<table border=\"1\" class=\"dataframe\">\n",
              "  <thead>\n",
              "    <tr style=\"text-align: right;\">\n",
              "      <th></th>\n",
              "      <th>title</th>\n",
              "      <th>topic_idx</th>\n",
              "      <th>tokenized_sent</th>\n",
              "      <th>encoding</th>\n",
              "    </tr>\n",
              "  </thead>\n",
              "  <tbody>\n",
              "    <tr>\n",
              "      <th>0</th>\n",
              "      <td>인천 핀란드 항공기 결항 휴가철 여행객 분통</td>\n",
              "      <td>0</td>\n",
              "      <td>[▁인천, ▁핀란드, ▁항공기, ▁결항, ▁휴가철, ▁여행객, ▁분통]</td>\n",
              "      <td>[391, 6354, 2754, 5148, 24727, 5484, 8233]</td>\n",
              "    </tr>\n",
              "    <tr>\n",
              "      <th>1</th>\n",
              "      <td>실리콘밸리 넘어서겠다 구글   조원 들여  전역 거점화</td>\n",
              "      <td>0</td>\n",
              "      <td>[▁실리콘밸리, ▁넘어서겠다, ▁구글, ▁조원, ▁들여, ▁전역, ▁거점화]</td>\n",
              "      <td>[7603, 30497, 1440, 1127, 6859, 10573, 23609]</td>\n",
              "    </tr>\n",
              "    <tr>\n",
              "      <th>2</th>\n",
              "      <td>이란 외무 긴장완화 해결책은 미국이 경제전쟁 멈추는 것</td>\n",
              "      <td>0</td>\n",
              "      <td>[▁이란, ▁외무, ▁긴장완화, ▁해결책은, ▁미국이, ▁경제전쟁, ▁멈추는, ▁것]</td>\n",
              "      <td>[31, 400, 11786, 18332, 4372, 11739, 21136, 151]</td>\n",
              "    </tr>\n",
              "  </tbody>\n",
              "</table>\n",
              "</div>"
            ],
            "text/plain": [
              "                            title  ...                                          encoding\n",
              "0        인천 핀란드 항공기 결항 휴가철 여행객 분통  ...        [391, 6354, 2754, 5148, 24727, 5484, 8233]\n",
              "1  실리콘밸리 넘어서겠다 구글   조원 들여  전역 거점화  ...     [7603, 30497, 1440, 1127, 6859, 10573, 23609]\n",
              "2  이란 외무 긴장완화 해결책은 미국이 경제전쟁 멈추는 것  ...  [31, 400, 11786, 18332, 4372, 11739, 21136, 151]\n",
              "\n",
              "[3 rows x 4 columns]"
            ]
          },
          "metadata": {},
          "execution_count": 151
        }
      ]
    },
    {
      "cell_type": "code",
      "metadata": {
        "colab": {
          "base_uri": "https://localhost:8080/",
          "height": 313
        },
        "id": "19K8RyslVi9j",
        "outputId": "5bd1f908-65f9-42fe-aec6-ab6304beca7b"
      },
      "source": [
        "with open(\"/content/drive/MyDrive/News_Timeline_WepApp/data/dacon_sentencepiece2.vocab\", 'r') as f:\n",
        "    vocab = f.readlines()\n",
        "\n",
        "word_index = {}\n",
        "index_word = {}\n",
        "\n",
        "for idx, line in enumerate(vocab):\n",
        "    word = line.split(\"\\t\")[0]\n",
        "\n",
        "    word_index.update({idx:word})\n",
        "    index_word.update({word:idx})\n",
        "\n",
        "sequences = dacon_df2['encoding']\n",
        "X_data = sequences\n",
        "\n",
        "print('메일의 최대 길이 : %d' % max(len(l) for l in X_data))\n",
        "print('메일의 평균 길이 : %f' % (sum(map(len, X_data))/len(X_data)))\n",
        "plt.hist([len(s) for s in X_data], bins=15)\n",
        "plt.xlabel('length of samples')\n",
        "plt.ylabel('number of samples')\n",
        "plt.show()"
      ],
      "id": "19K8RyslVi9j",
      "execution_count": 155,
      "outputs": [
        {
          "output_type": "stream",
          "name": "stdout",
          "text": [
            "메일의 최대 길이 : 18\n",
            "메일의 평균 길이 : 8.477153\n"
          ]
        },
        {
          "output_type": "display_data",
          "data": {
            "image/png": "[encoded data removed]",
            "text/plain": [
              "<Figure size 432x288 with 1 Axes>"
            ]
          },
          "metadata": {
            "needs_background": "light"
          }
        }
      ]
    },
    {
      "cell_type": "code",
      "metadata": {
        "colab": {
          "base_uri": "https://localhost:8080/"
        },
        "id": "Zu2v2EKCVuHe",
        "outputId": "dfa07c4c-c1d0-4d62-d5b0-f53ef15c7e08"
      },
      "source": [
        "max_len = 18\n",
        "X_data = pad_sequences(X_data, maxlen = max_len)\n",
        "print(\"훈련 데이터의 크기(shape): \", X_data.shape)\n",
        "\n",
        "# ndarray로 바꿔주기\n",
        "y_data = np.array(list(dacon_df2['topic_idx']))\n",
        "\n",
        "print(X_data[:3])\n",
        "print(y_data[:3])"
      ],
      "id": "Zu2v2EKCVuHe",
      "execution_count": 158,
      "outputs": [
        {
          "output_type": "stream",
          "name": "stdout",
          "text": [
            "훈련 데이터의 크기(shape):  (14991, 18)\n",
            "[[    0     0     0     0     0     0     0     0     0     0     0   391\n",
            "   6354  2754  5148 24727  5484  8233]\n",
            " [    0     0     0     0     0     0     0     0     0     0     0  7603\n",
            "  30497  1440  1127  6859 10573 23609]\n",
            " [    0     0     0     0     0     0     0     0     0     0    31   400\n",
            "  11786 18332  4372 11739 21136   151]]\n",
            "[0 0 0]\n"
          ]
        }
      ]
    },
    {
      "cell_type": "code",
      "metadata": {
        "colab": {
          "base_uri": "https://localhost:8080/"
        },
        "id": "_6Jo8f2aV640",
        "outputId": "7a6d2808-04da-4600-f721-de5a9731d85a"
      },
      "source": [
        "from sklearn.model_selection import train_test_split\n",
        "\n",
        "X_train, X_test, Y_train, Y_test = train_test_split(X_data, y_data, test_size=0.2, random_state=0)\n",
        "\n",
        "print(X_train.shape, Y_train.shape)\n",
        "print(X_test.shape, Y_test.shape)"
      ],
      "id": "_6Jo8f2aV640",
      "execution_count": 159,
      "outputs": [
        {
          "output_type": "stream",
          "name": "stdout",
          "text": [
            "(11992, 18) (11992,)\n",
            "(2999, 18) (2999,)\n"
          ]
        }
      ]
    },
    {
      "cell_type": "code",
      "metadata": {
        "colab": {
          "base_uri": "https://localhost:8080/"
        },
        "id": "Riay7xpnWGQ_",
        "outputId": "82db26c3-f50a-4e7c-889a-a51c9d4fda9b"
      },
      "source": [
        "model = Sequential()\n",
        "model.add(Embedding(32000, 32)) \n",
        "model.add(SimpleRNN(32)) # RNN 셀의 hidden_size는 32\n",
        "model.add(Dense(1, activation='sigmoid'))\n",
        "\n",
        "model.compile(optimizer='adam', loss='binary_crossentropy', metrics=['accuracy'])\n",
        "history = model.fit(X_train, Y_train, epochs=4, batch_size=64, validation_split=0.2)"
      ],
      "id": "Riay7xpnWGQ_",
      "execution_count": 160,
      "outputs": [
        {
          "output_type": "stream",
          "name": "stdout",
          "text": [
            "Epoch 1/4\n",
            "150/150 [==============================] - 4s 19ms/step - loss: 0.4765 - accuracy: 0.7587 - val_loss: 0.2748 - val_accuracy: 0.8845\n",
            "Epoch 2/4\n",
            "150/150 [==============================] - 2s 16ms/step - loss: 0.0910 - accuracy: 0.9705 - val_loss: 0.2352 - val_accuracy: 0.9070\n",
            "Epoch 3/4\n",
            "150/150 [==============================] - 2s 17ms/step - loss: 0.0186 - accuracy: 0.9961 - val_loss: 0.2497 - val_accuracy: 0.9129\n",
            "Epoch 4/4\n",
            "150/150 [==============================] - 2s 16ms/step - loss: 0.0063 - accuracy: 0.9992 - val_loss: 0.2835 - val_accuracy: 0.9054\n"
          ]
        }
      ]
    },
    {
      "cell_type": "code",
      "metadata": {
        "colab": {
          "base_uri": "https://localhost:8080/"
        },
        "id": "cYIzRvt9WMT2",
        "outputId": "05d6760b-ceab-458f-8c25-1621f6cf6e64"
      },
      "source": [
        "print(\"\\n 테스트 정확도: %.4f\" % (model.evaluate(X_test, Y_test)[1]))"
      ],
      "id": "cYIzRvt9WMT2",
      "execution_count": 161,
      "outputs": [
        {
          "output_type": "stream",
          "name": "stdout",
          "text": [
            "94/94 [==============================] - 0s 2ms/step - loss: 0.3256 - accuracy: 0.8980\n",
            "\n",
            " 테스트 정확도: 0.8980\n"
          ]
        }
      ]
    },
    {
      "cell_type": "code",
      "metadata": {
        "id": "ciu93ezeWR6G"
      },
      "source": [
        ""
      ],
      "id": "ciu93ezeWR6G",
      "execution_count": null,
      "outputs": []
    }
  ]
}
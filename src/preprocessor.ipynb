{
 "cells": [
  {
   "cell_type": "code",
   "execution_count": 9,
   "source": [
    "import pandas as pd\r\n",
    "import re"
   ],
   "outputs": [],
   "metadata": {}
  },
  {
   "cell_type": "code",
   "execution_count": 10,
   "source": [
    "save_dir = ('./data/dacon_news_data.csv')\r\n",
    "df = pd.read_csv(save_dir)\r\n",
    "print(df.head())"
   ],
   "outputs": [
    {
     "output_type": "stream",
     "name": "stdout",
     "text": [
      "   index                             title  topic_idx\n",
      "0      0          인천→핀란드 항공기 결항…휴가철 여행객 분통          4\n",
      "1      1    실리콘밸리 넘어서겠다…구글 15조원 들여 美전역 거점화          4\n",
      "2      2    이란 외무 긴장완화 해결책은 미국이 경제전쟁 멈추는 것          4\n",
      "3      3  NYT 클린턴 측근韓기업 특수관계 조명…공과 사 맞물려종합          4\n",
      "4      4         시진핑 트럼프에 중미 무역협상 조속 타결 희망          4\n"
     ]
    }
   ],
   "metadata": {}
  },
  {
   "cell_type": "code",
   "execution_count": 11,
   "source": [
    "len(df)"
   ],
   "outputs": [
    {
     "output_type": "execute_result",
     "data": {
      "text/plain": [
       "14991"
      ]
     },
     "metadata": {},
     "execution_count": 11
    }
   ],
   "metadata": {}
  },
  {
   "cell_type": "markdown",
   "source": [
    "## 전처리\r\n",
    "### 1. 특수기호 제거"
   ],
   "metadata": {}
  },
  {
   "cell_type": "code",
   "execution_count": 12,
   "source": [
    "# 특수기호 제거\r\n",
    "df['clean_title'] = df['title'].map(lambda x : re.sub(pattern='[^\\w\\s]', repl=' ', string= x))"
   ],
   "outputs": [],
   "metadata": {}
  },
  {
   "cell_type": "code",
   "execution_count": 13,
   "source": [
    "df['clean_title']"
   ],
   "outputs": [
    {
     "output_type": "execute_result",
     "data": {
      "text/plain": [
       "0                  인천 핀란드 항공기 결항 휴가철 여행객 분통\n",
       "1            실리콘밸리 넘어서겠다 구글 15조원 들여 美전역 거점화\n",
       "2            이란 외무 긴장완화 해결책은 미국이 경제전쟁 멈추는 것\n",
       "3          NYT 클린턴 측근韓기업 특수관계 조명 공과 사 맞물려종합\n",
       "4                 시진핑 트럼프에 중미 무역협상 조속 타결 희망\n",
       "                        ...                \n",
       "14986        남친과 함께 잔혹하게 동거인 학대 20대 여성 구속영장\n",
       "14987            일왕 부부 16일 동일본대지진 피해지역 위로방문\n",
       "14988       1보 서울시교육청 신종코로나 확산에 개학 연기 휴업 검토\n",
       "14989                     답변하는 배기동 국립중앙박물관장\n",
       "14990    2020 한국인터넷기자상 시상식 내달 1일 개최 특별상 김성후\n",
       "Name: clean_title, Length: 14991, dtype: object"
      ]
     },
     "metadata": {},
     "execution_count": 13
    }
   ],
   "metadata": {}
  },
  {
   "cell_type": "markdown",
   "source": [
    "### 2. 품사 태깅"
   ],
   "metadata": {}
  },
  {
   "cell_type": "code",
   "execution_count": 14,
   "source": [
    "from eunjeon import Mecab\r\n",
    "\r\n",
    "mecab = Mecab()\r\n",
    "\r\n",
    "text = \"NYT 클린턴 측근韓기업 특수관계 조명…공과 사 맞물려종합\"\r\n",
    "print(f\"pos: {mecab.pos(text)}\")\r\n",
    "print(f\"nouns: {mecab.nouns(text)}\")\r\n",
    "print(f\"nouns + SL: {mecab.nouns_and_foreign(text)}\")"
   ],
   "outputs": [
    {
     "output_type": "stream",
     "name": "stdout",
     "text": [
      "pos: [('NYT', 'SL'), ('클린턴', 'NNP'), ('측근', 'NNG'), ('韓', 'NNG'), ('기업', 'NNG'), ('특수', 'NNG'), ('관계', 'NNG'), ('조명', 'NNG'), ('…', 'SE'), ('공과', 'NNG'), ('사', 'VV+EC'), ('맞물려', 'VV+EC'), ('종합', 'NNG')]\n",
      "nouns: ['클린턴', '측근', '韓', '기업', '특수', '관계', '조명', '공과', '종합']\n",
      "nouns + SL: ['NYT', '클린턴', '측근', '韓', '기업', '특수', '관계', '조명', '공과', '종합']\n"
     ]
    }
   ],
   "metadata": {}
  },
  {
   "cell_type": "code",
   "execution_count": 15,
   "source": [
    "# 전체 title pos tagging\r\n",
    "df['tagged_title'] = df['clean_title'].map(lambda x : mecab.pos(x))"
   ],
   "outputs": [],
   "metadata": {}
  },
  {
   "cell_type": "code",
   "execution_count": 16,
   "source": [
    "df['tagged_title']"
   ],
   "outputs": [
    {
     "output_type": "execute_result",
     "data": {
      "text/plain": [
       "0        [(인천, NNP), (핀란드, NNP), (항공기, NNG), (결항, NNG),...\n",
       "1        [(실리콘밸리, NNP), (넘어서, VV), (겠, EP), (다, EC), (구...\n",
       "2        [(이란, NNP), (외무, NNG), (긴장, NNG), (완화, NNG), (...\n",
       "3        [(NYT, SL), (클린턴, NNP), (측근, NNG), (韓, NNG), (...\n",
       "4        [(시진핑, NNP), (트럼프, NNG), (에, JKB), (중미, NNG), ...\n",
       "                               ...                        \n",
       "14986    [(남친, NNG), (과, JKB), (함께, MAG), (잔혹, NNG), (하...\n",
       "14987    [(일, NR), (왕, NNG), (부부, NNG), (16, SN), (일, N...\n",
       "14988    [(1, SN), (보, NNBC), (서울시, NNP), (교육청, NNG), (...\n",
       "14989    [(답변, NNG), (하, XSV), (는, ETM), (배기동, NNP), (국...\n",
       "14990    [(2020, SN), (한국, NNP), (인터넷, NNG), (기자상, NNG)...\n",
       "Name: tagged_title, Length: 14991, dtype: object"
      ]
     },
     "metadata": {},
     "execution_count": 16
    }
   ],
   "metadata": {}
  },
  {
   "cell_type": "code",
   "execution_count": 17,
   "source": [
    "# 명사와 외국어만 추출\r\n",
    "df['NSL_title'] = df['clean_title'].map(lambda x : mecab.nouns_and_foreign(x))"
   ],
   "outputs": [],
   "metadata": {}
  },
  {
   "cell_type": "code",
   "execution_count": 18,
   "source": [
    "df.head()"
   ],
   "outputs": [
    {
     "output_type": "execute_result",
     "data": {
      "text/html": [
       "<div>\n",
       "<style scoped>\n",
       "    .dataframe tbody tr th:only-of-type {\n",
       "        vertical-align: middle;\n",
       "    }\n",
       "\n",
       "    .dataframe tbody tr th {\n",
       "        vertical-align: top;\n",
       "    }\n",
       "\n",
       "    .dataframe thead th {\n",
       "        text-align: right;\n",
       "    }\n",
       "</style>\n",
       "<table border=\"1\" class=\"dataframe\">\n",
       "  <thead>\n",
       "    <tr style=\"text-align: right;\">\n",
       "      <th></th>\n",
       "      <th>index</th>\n",
       "      <th>title</th>\n",
       "      <th>topic_idx</th>\n",
       "      <th>clean_title</th>\n",
       "      <th>tagged_title</th>\n",
       "      <th>NSL_title</th>\n",
       "    </tr>\n",
       "  </thead>\n",
       "  <tbody>\n",
       "    <tr>\n",
       "      <th>0</th>\n",
       "      <td>0</td>\n",
       "      <td>인천→핀란드 항공기 결항…휴가철 여행객 분통</td>\n",
       "      <td>4</td>\n",
       "      <td>인천 핀란드 항공기 결항 휴가철 여행객 분통</td>\n",
       "      <td>[(인천, NNP), (핀란드, NNP), (항공기, NNG), (결항, NNG),...</td>\n",
       "      <td>[인천, 핀란드, 항공기, 결항, 휴가철, 여행객, 분통]</td>\n",
       "    </tr>\n",
       "    <tr>\n",
       "      <th>1</th>\n",
       "      <td>1</td>\n",
       "      <td>실리콘밸리 넘어서겠다…구글 15조원 들여 美전역 거점화</td>\n",
       "      <td>4</td>\n",
       "      <td>실리콘밸리 넘어서겠다 구글 15조원 들여 美전역 거점화</td>\n",
       "      <td>[(실리콘밸리, NNP), (넘어서, VV), (겠, EP), (다, EC), (구...</td>\n",
       "      <td>[실리콘밸리, 구글, 조, 원, 美, 전역, 거점]</td>\n",
       "    </tr>\n",
       "    <tr>\n",
       "      <th>2</th>\n",
       "      <td>2</td>\n",
       "      <td>이란 외무 긴장완화 해결책은 미국이 경제전쟁 멈추는 것</td>\n",
       "      <td>4</td>\n",
       "      <td>이란 외무 긴장완화 해결책은 미국이 경제전쟁 멈추는 것</td>\n",
       "      <td>[(이란, NNP), (외무, NNG), (긴장, NNG), (완화, NNG), (...</td>\n",
       "      <td>[이란, 외무, 긴장, 완화, 해결책, 미국, 경제, 전쟁, 것]</td>\n",
       "    </tr>\n",
       "    <tr>\n",
       "      <th>3</th>\n",
       "      <td>3</td>\n",
       "      <td>NYT 클린턴 측근韓기업 특수관계 조명…공과 사 맞물려종합</td>\n",
       "      <td>4</td>\n",
       "      <td>NYT 클린턴 측근韓기업 특수관계 조명 공과 사 맞물려종합</td>\n",
       "      <td>[(NYT, SL), (클린턴, NNP), (측근, NNG), (韓, NNG), (...</td>\n",
       "      <td>[NYT, 클린턴, 측근, 韓, 기업, 특수, 관계, 조명, 공과, 종합]</td>\n",
       "    </tr>\n",
       "    <tr>\n",
       "      <th>4</th>\n",
       "      <td>4</td>\n",
       "      <td>시진핑 트럼프에 중미 무역협상 조속 타결 희망</td>\n",
       "      <td>4</td>\n",
       "      <td>시진핑 트럼프에 중미 무역협상 조속 타결 희망</td>\n",
       "      <td>[(시진핑, NNP), (트럼프, NNG), (에, JKB), (중미, NNG), ...</td>\n",
       "      <td>[시진핑, 트럼프, 중미, 무역, 협상, 조속, 타결, 희망]</td>\n",
       "    </tr>\n",
       "  </tbody>\n",
       "</table>\n",
       "</div>"
      ],
      "text/plain": [
       "   index                             title  topic_idx  \\\n",
       "0      0          인천→핀란드 항공기 결항…휴가철 여행객 분통          4   \n",
       "1      1    실리콘밸리 넘어서겠다…구글 15조원 들여 美전역 거점화          4   \n",
       "2      2    이란 외무 긴장완화 해결책은 미국이 경제전쟁 멈추는 것          4   \n",
       "3      3  NYT 클린턴 측근韓기업 특수관계 조명…공과 사 맞물려종합          4   \n",
       "4      4         시진핑 트럼프에 중미 무역협상 조속 타결 희망          4   \n",
       "\n",
       "                        clean_title  \\\n",
       "0          인천 핀란드 항공기 결항 휴가철 여행객 분통   \n",
       "1    실리콘밸리 넘어서겠다 구글 15조원 들여 美전역 거점화   \n",
       "2    이란 외무 긴장완화 해결책은 미국이 경제전쟁 멈추는 것   \n",
       "3  NYT 클린턴 측근韓기업 특수관계 조명 공과 사 맞물려종합   \n",
       "4         시진핑 트럼프에 중미 무역협상 조속 타결 희망   \n",
       "\n",
       "                                        tagged_title  \\\n",
       "0  [(인천, NNP), (핀란드, NNP), (항공기, NNG), (결항, NNG),...   \n",
       "1  [(실리콘밸리, NNP), (넘어서, VV), (겠, EP), (다, EC), (구...   \n",
       "2  [(이란, NNP), (외무, NNG), (긴장, NNG), (완화, NNG), (...   \n",
       "3  [(NYT, SL), (클린턴, NNP), (측근, NNG), (韓, NNG), (...   \n",
       "4  [(시진핑, NNP), (트럼프, NNG), (에, JKB), (중미, NNG), ...   \n",
       "\n",
       "                                   NSL_title  \n",
       "0           [인천, 핀란드, 항공기, 결항, 휴가철, 여행객, 분통]  \n",
       "1               [실리콘밸리, 구글, 조, 원, 美, 전역, 거점]  \n",
       "2       [이란, 외무, 긴장, 완화, 해결책, 미국, 경제, 전쟁, 것]  \n",
       "3  [NYT, 클린턴, 측근, 韓, 기업, 특수, 관계, 조명, 공과, 종합]  \n",
       "4         [시진핑, 트럼프, 중미, 무역, 협상, 조속, 타결, 희망]  "
      ]
     },
     "metadata": {},
     "execution_count": 18
    }
   ],
   "metadata": {}
  },
  {
   "cell_type": "markdown",
   "source": [
    "### 3. 사용자 정의 불용어 제거"
   ],
   "metadata": {}
  },
  {
   "cell_type": "code",
   "execution_count": 7,
   "source": [
    "import codecs\r\n",
    "\r\n",
    "# 불용어 사전 불러오기\r\n",
    "_stopwords = codecs.open(\"./data/custom_stopwords.txt\",  'r', 'utf-8')\r\n",
    "lines = _stopwords.readlines()\r\n",
    "_stopwords = [line.strip().split()[0] for line in lines]\r\n",
    "len(_stopwords)"
   ],
   "outputs": [
    {
     "output_type": "execute_result",
     "data": {
      "text/plain": [
       "100"
      ]
     },
     "metadata": {},
     "execution_count": 7
    }
   ],
   "metadata": {}
  },
  {
   "cell_type": "code",
   "execution_count": 19,
   "source": [
    "df['tokenized'] = df['NSL_title'].map(lambda x : [word for word in x if not word in _stopwords])"
   ],
   "outputs": [],
   "metadata": {}
  },
  {
   "cell_type": "code",
   "execution_count": 20,
   "source": [
    "df['tokenized']"
   ],
   "outputs": [
    {
     "output_type": "execute_result",
     "data": {
      "text/plain": [
       "0                 [인천, 핀란드, 항공기, 결항, 휴가철, 여행객, 분통]\n",
       "1                        [실리콘밸리, 구글, 조, 美, 전역, 거점]\n",
       "2                [이란, 외무, 긴장, 완화, 해결책, 미국, 경제, 전쟁]\n",
       "3        [NYT, 클린턴, 측근, 韓, 기업, 특수, 관계, 조명, 공과, 종합]\n",
       "4               [시진핑, 트럼프, 중미, 무역, 협상, 조속, 타결, 희망]\n",
       "                           ...                    \n",
       "14986             [남친, 잔혹, 동거인, 학대, 대, 여성, 구속, 영장]\n",
       "14987             [왕, 부부, 동일본, 대지진, 피해, 지역, 위, 방문]\n",
       "14988      [서울시, 교육청, 신종, 코로나, 확산, 개학, 연기, 휴업, 검토]\n",
       "14989                    [답변, 배기동, 국립, 중앙, 박물, 관장]\n",
       "14990        [한국, 인터넷, 기자상, 시상식, 내달, 개최, 특별상, 김성후]\n",
       "Name: tokenized, Length: 14991, dtype: object"
      ]
     },
     "metadata": {},
     "execution_count": 20
    }
   ],
   "metadata": {}
  },
  {
   "cell_type": "code",
   "execution_count": null,
   "source": [],
   "outputs": [],
   "metadata": {}
  }
 ],
 "metadata": {
  "orig_nbformat": 4,
  "language_info": {
   "name": "python",
   "version": "3.9.6",
   "mimetype": "text/x-python",
   "codemirror_mode": {
    "name": "ipython",
    "version": 3
   },
   "pygments_lexer": "ipython3",
   "nbconvert_exporter": "python",
   "file_extension": ".py"
  },
  "kernelspec": {
   "name": "python3",
   "display_name": "Python 3.9.6 64-bit"
  },
  "interpreter": {
   "hash": "63fd5069d213b44bf678585dea6b12cceca9941eaf7f819626cde1f2670de90d"
  }
 },
 "nbformat": 4,
 "nbformat_minor": 2
}
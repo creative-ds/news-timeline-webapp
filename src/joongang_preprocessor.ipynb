{
 "cells": [
  {
   "cell_type": "markdown",
   "metadata": {},
   "source": [
    "# Library Import & Data Load"
   ]
  },
  {
   "cell_type": "code",
   "execution_count": 2,
   "metadata": {},
   "outputs": [],
   "source": [
    "import pandas as pd\n",
    "import numpy as np\n",
    "import re"
   ]
  },
  {
   "cell_type": "code",
   "execution_count": 5,
   "metadata": {},
   "outputs": [
    {
     "name": "stdout",
     "output_type": "stream",
     "text": [
      "         date                                title  \\\n",
      "0  2021-08-31        아파트 15층 베란다서 흉기 들고 투신 소동 끝 구조   \n",
      "1  2021-08-31            '택시기사 폭행' 혐의 공수처 파견 경찰 입건   \n",
      "2  2021-08-31  \"더 많이 못죽인게 한\" 전자발찌 살인마 구속…法 \"도주 우려\"   \n",
      "3  2021-08-31      민주노총 불법집회…경찰·지자체, 코로나 핑계로 소극 대응   \n",
      "4  2021-08-31     [단독]전처·아들 찾아다녔다…전자발찌 살인마의 불안한 행적   \n",
      "\n",
      "                                                body  \\\n",
      "0  경찰 이미지그래픽.\\n경기 파주 소재 한 아파트 15층에서 한 남성이 흉기를 들고 ...   \n",
      "1  중앙포토\\n서울 구로경찰서는 고위공직자범죄수사처(공수처)에 파견 근무 중인 현직 경...   \n",
      "2  위치추적 전자장치(전자발찌) 훼손 전후로 여성 2명을 잇달아 살해한 혐의를 받는 강...   \n",
      "3  민주노총 금속노조가 두 차례에 걸쳐 대규모 불법집회를 개최했지만, 경찰과 방역 감독...   \n",
      "4  전자발찌를 끊고 여성 2명을 살해한 강모(56)씨가 범행 보름 전, 아내와 아들을 ...   \n",
      "\n",
      "                                           url  \n",
      "0  https://www.joongang.co.kr/article/25003195  \n",
      "1  https://www.joongang.co.kr/article/25003141  \n",
      "2  https://www.joongang.co.kr/article/25003133  \n",
      "3  https://www.joongang.co.kr/article/25003080  \n",
      "4  https://www.joongang.co.kr/article/25003056  \n"
     ]
    }
   ],
   "source": [
    "save_dir = ('../data/joongang_accident_df.csv')\n",
    "df = pd.read_csv(save_dir)\n",
    "print(df.head())"
   ]
  },
  {
   "cell_type": "code",
   "execution_count": 6,
   "metadata": {},
   "outputs": [
    {
     "data": {
      "text/plain": [
       "'경찰 이미지그래픽.\\n경기 파주 소재 한 아파트 15층에서 한 남성이 흉기를 들고 투신하겠다는 소동을 벌였다가 경찰에 의해 구조됐다.\\n31일 경찰과 소방 등에 따르면 이날 오후 1시19분께 극단적 선택을 암시하는 듯한 전화가 112에 접수됐다.\\n출동한 경찰은 아파트 15층 베란다에서 흉기를 들고 위태롭게 서 있던 남성 A씨를 발견했다. 경찰은 대화를 시도하며 그를 진정시킨 뒤 흉기를 빼앗고 신병을 확보했다. 아파트 앞에는 만일의 사태를 대비해 안전 에어매트도 설치됐다.\\nA씨는 경제적 문제 등을 비관하며 소동을 벌인 것으로 조사됐고, 경찰은 A씨를 가족에게 인계했다.\\nADVERTISEMENT\\n나운채 기자 na.unchae@joongang.co.kr'"
      ]
     },
     "execution_count": 6,
     "metadata": {},
     "output_type": "execute_result"
    }
   ],
   "source": [
    "df.body.iloc[0]"
   ]
  },
  {
   "cell_type": "markdown",
   "metadata": {},
   "source": [
    "# Content Preprocessing"
   ]
  },
  {
   "cell_type": "code",
   "execution_count": 12,
   "metadata": {},
   "outputs": [],
   "source": [
    "def preprocessing_text(df):\n",
    "    df['body_prep'] = df['body']\n",
    "\n",
    "    contents_new = []\n",
    "\n",
    "    for content in df['body_prep']:\n",
    "        sentence_list = content.split('\\n')\n",
    "        content_prep = list(filter(lambda s:  re.findall(\"[\\.\\?\\,]$\",s) and \\\n",
    "                                            not re.findall(\"이미지그래픽\", s) and \\\n",
    "                                                re.sub(\"\\[.*\\]\", \"\", s), sentence_list))\n",
    "        contents_new.append('\\n'.join(content_prep))\n",
    "        \n",
    "    df['body_prep'] = contents_new\n",
    "\n",
    "    return df"
   ]
  },
  {
   "cell_type": "code",
   "execution_count": 13,
   "metadata": {},
   "outputs": [
    {
     "data": {
      "text/html": [
       "<div>\n",
       "<style scoped>\n",
       "    .dataframe tbody tr th:only-of-type {\n",
       "        vertical-align: middle;\n",
       "    }\n",
       "\n",
       "    .dataframe tbody tr th {\n",
       "        vertical-align: top;\n",
       "    }\n",
       "\n",
       "    .dataframe thead th {\n",
       "        text-align: right;\n",
       "    }\n",
       "</style>\n",
       "<table border=\"1\" class=\"dataframe\">\n",
       "  <thead>\n",
       "    <tr style=\"text-align: right;\">\n",
       "      <th></th>\n",
       "      <th>date</th>\n",
       "      <th>title</th>\n",
       "      <th>body</th>\n",
       "      <th>url</th>\n",
       "      <th>body_prep</th>\n",
       "    </tr>\n",
       "  </thead>\n",
       "  <tbody>\n",
       "    <tr>\n",
       "      <th>0</th>\n",
       "      <td>2021-08-31</td>\n",
       "      <td>아파트 15층 베란다서 흉기 들고 투신 소동 끝 구조</td>\n",
       "      <td>경찰 이미지그래픽.\\n경기 파주 소재 한 아파트 15층에서 한 남성이 흉기를 들고 ...</td>\n",
       "      <td>https://www.joongang.co.kr/article/25003195</td>\n",
       "      <td>경기 파주 소재 한 아파트 15층에서 한 남성이 흉기를 들고 투신하겠다는 소동을 벌...</td>\n",
       "    </tr>\n",
       "    <tr>\n",
       "      <th>1</th>\n",
       "      <td>2021-08-31</td>\n",
       "      <td>'택시기사 폭행' 혐의 공수처 파견 경찰 입건</td>\n",
       "      <td>중앙포토\\n서울 구로경찰서는 고위공직자범죄수사처(공수처)에 파견 근무 중인 현직 경...</td>\n",
       "      <td>https://www.joongang.co.kr/article/25003141</td>\n",
       "      <td>서울 구로경찰서는 고위공직자범죄수사처(공수처)에 파견 근무 중인 현직 경찰관 A씨를...</td>\n",
       "    </tr>\n",
       "    <tr>\n",
       "      <th>2</th>\n",
       "      <td>2021-08-31</td>\n",
       "      <td>\"더 많이 못죽인게 한\" 전자발찌 살인마 구속…法 \"도주 우려\"</td>\n",
       "      <td>위치추적 전자장치(전자발찌) 훼손 전후로 여성 2명을 잇달아 살해한 혐의를 받는 강...</td>\n",
       "      <td>https://www.joongang.co.kr/article/25003133</td>\n",
       "      <td>전자발찌 훼손 전후로 여성 2명을 살해한 혐의를 받는 성범죄 전과자 강모(56)씨가...</td>\n",
       "    </tr>\n",
       "    <tr>\n",
       "      <th>3</th>\n",
       "      <td>2021-08-31</td>\n",
       "      <td>민주노총 불법집회…경찰·지자체, 코로나 핑계로 소극 대응</td>\n",
       "      <td>민주노총 금속노조가 두 차례에 걸쳐 대규모 불법집회를 개최했지만, 경찰과 방역 감독...</td>\n",
       "      <td>https://www.joongang.co.kr/article/25003080</td>\n",
       "      <td>민주노총 금속노조가 두 차례에 걸쳐 대규모 불법집회를 개최했지만, 경찰과 방역 감독...</td>\n",
       "    </tr>\n",
       "    <tr>\n",
       "      <th>4</th>\n",
       "      <td>2021-08-31</td>\n",
       "      <td>[단독]전처·아들 찾아다녔다…전자발찌 살인마의 불안한 행적</td>\n",
       "      <td>전자발찌를 끊고 여성 2명을 살해한 강모(56)씨가 범행 보름 전, 아내와 아들을 ...</td>\n",
       "      <td>https://www.joongang.co.kr/article/25003056</td>\n",
       "      <td>전자발찌를 끊고 여성 2명을 살해한 강모(56)씨가 범행 보름 전, 아내와 아들을 ...</td>\n",
       "    </tr>\n",
       "  </tbody>\n",
       "</table>\n",
       "</div>"
      ],
      "text/plain": [
       "         date                                title  \\\n",
       "0  2021-08-31        아파트 15층 베란다서 흉기 들고 투신 소동 끝 구조   \n",
       "1  2021-08-31            '택시기사 폭행' 혐의 공수처 파견 경찰 입건   \n",
       "2  2021-08-31  \"더 많이 못죽인게 한\" 전자발찌 살인마 구속…法 \"도주 우려\"   \n",
       "3  2021-08-31      민주노총 불법집회…경찰·지자체, 코로나 핑계로 소극 대응   \n",
       "4  2021-08-31     [단독]전처·아들 찾아다녔다…전자발찌 살인마의 불안한 행적   \n",
       "\n",
       "                                                body  \\\n",
       "0  경찰 이미지그래픽.\\n경기 파주 소재 한 아파트 15층에서 한 남성이 흉기를 들고 ...   \n",
       "1  중앙포토\\n서울 구로경찰서는 고위공직자범죄수사처(공수처)에 파견 근무 중인 현직 경...   \n",
       "2  위치추적 전자장치(전자발찌) 훼손 전후로 여성 2명을 잇달아 살해한 혐의를 받는 강...   \n",
       "3  민주노총 금속노조가 두 차례에 걸쳐 대규모 불법집회를 개최했지만, 경찰과 방역 감독...   \n",
       "4  전자발찌를 끊고 여성 2명을 살해한 강모(56)씨가 범행 보름 전, 아내와 아들을 ...   \n",
       "\n",
       "                                           url  \\\n",
       "0  https://www.joongang.co.kr/article/25003195   \n",
       "1  https://www.joongang.co.kr/article/25003141   \n",
       "2  https://www.joongang.co.kr/article/25003133   \n",
       "3  https://www.joongang.co.kr/article/25003080   \n",
       "4  https://www.joongang.co.kr/article/25003056   \n",
       "\n",
       "                                           body_prep  \n",
       "0  경기 파주 소재 한 아파트 15층에서 한 남성이 흉기를 들고 투신하겠다는 소동을 벌...  \n",
       "1  서울 구로경찰서는 고위공직자범죄수사처(공수처)에 파견 근무 중인 현직 경찰관 A씨를...  \n",
       "2  전자발찌 훼손 전후로 여성 2명을 살해한 혐의를 받는 성범죄 전과자 강모(56)씨가...  \n",
       "3  민주노총 금속노조가 두 차례에 걸쳐 대규모 불법집회를 개최했지만, 경찰과 방역 감독...  \n",
       "4  전자발찌를 끊고 여성 2명을 살해한 강모(56)씨가 범행 보름 전, 아내와 아들을 ...  "
      ]
     },
     "execution_count": 13,
     "metadata": {},
     "output_type": "execute_result"
    }
   ],
   "source": [
    "df = preprocessing_text(df)\n",
    "df.head()"
   ]
  },
  {
   "cell_type": "code",
   "execution_count": 15,
   "metadata": {},
   "outputs": [],
   "source": [
    "save_dir = ('../crawler/joongang/data/joongang_accident_prep_df.csv')\n",
    "df.to_csv(save_dir, index=False)"
   ]
  },
  {
   "cell_type": "code",
   "execution_count": null,
   "metadata": {},
   "outputs": [],
   "source": []
  },
  {
   "cell_type": "code",
   "execution_count": null,
   "metadata": {},
   "outputs": [],
   "source": []
  }
 ],
 "metadata": {
  "interpreter": {
   "hash": "63fd5069d213b44bf678585dea6b12cceca9941eaf7f819626cde1f2670de90d"
  },
  "kernelspec": {
   "display_name": "Python 3.9.6 64-bit",
   "name": "python3"
  },
  "language_info": {
   "codemirror_mode": {
    "name": "ipython",
    "version": 3
   },
   "file_extension": ".py",
   "mimetype": "text/x-python",
   "name": "python",
   "nbconvert_exporter": "python",
   "pygments_lexer": "ipython3",
   "version": "3.9.6"
  },
  "orig_nbformat": 4
 },
 "nbformat": 4,
 "nbformat_minor": 2
}
